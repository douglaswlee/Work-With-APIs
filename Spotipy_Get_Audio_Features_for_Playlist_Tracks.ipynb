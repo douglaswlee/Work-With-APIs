{
 "cells": [
  {
   "cell_type": "markdown",
   "metadata": {},
   "source": [
    "## Getting Audio Features for All Tracks in a Playlist"
   ]
  },
  {
   "cell_type": "markdown",
   "metadata": {},
   "source": [
    "This notebook goes through the basic process of using [Spotipy](https://spotipy.readthedocs.io/en/2.11.1/) to access the Spotify API and (as the title says) search for a playlist, get all its tracks, and finally get the [Spotify Audio Features](https://developer.spotify.com/documentation/web-api/reference/tracks/get-audio-features/) for these tracks -- along with a short analysis."
   ]
  },
  {
   "cell_type": "code",
   "execution_count": 1,
   "metadata": {},
   "outputs": [],
   "source": [
    "import spotipy\n",
    "from spotipy.oauth2 import SpotifyClientCredentials\n",
    "\n",
    "import pandas as pd\n",
    "import numpy as np\n",
    "import matplotlib.pyplot as plt\n",
    "import seaborn as sns\n",
    "plt.style.use('fivethirtyeight')\n",
    "\n",
    "from IPython.display import YouTubeVideo, IFrame\n",
    "from scipy.spatial.distance import cosine"
   ]
  },
  {
   "cell_type": "markdown",
   "metadata": {},
   "source": [
    "Let's use the [Client Credentials Flow](https://spotipy.readthedocs.io/en/2.11.1/#client-credentials-flow) to access the API. I followed the details in this [post](https://medium.com/@maxtingle/getting-started-with-spotifys-api-spotipy-197c3dc6353b) to set up my credentials."
   ]
  },
  {
   "cell_type": "code",
   "execution_count": 2,
   "metadata": {},
   "outputs": [],
   "source": [
    "cid = # your client id\n",
    "secret = # your client secret\n",
    "client_credentials_manager = SpotifyClientCredentials(client_id=cid, client_secret=secret)\n",
    "sp = spotipy.Spotify(client_credentials_manager=client_credentials_manager)"
   ]
  },
  {
   "cell_type": "markdown",
   "metadata": {},
   "source": [
    "Now let's do a playlist search of playlists of songs from Apple commercials, and pick out the first one returned to analyze:"
   ]
  },
  {
   "cell_type": "code",
   "execution_count": 3,
   "metadata": {},
   "outputs": [],
   "source": [
    "playlist_search = sp.search(q='apple commercial songs', type='playlist')\n",
    "apple_comm_songs = playlist_search['playlists']['items'][0]"
   ]
  },
  {
   "cell_type": "code",
   "execution_count": 4,
   "metadata": {},
   "outputs": [
    {
     "name": "stdout",
     "output_type": "stream",
     "text": [
      "spotify:playlist:3mbFWxQz8zYFV0YzdBHQ9L\n",
      "Apple Commercial Songs (Updated:  April, 2020)\n"
     ]
    }
   ],
   "source": [
    "print(apple_comm_songs['uri'])\n",
    "print(apple_comm_songs['name'])"
   ]
  },
  {
   "cell_type": "markdown",
   "metadata": {},
   "source": [
    "Let's now test out getting info about the first track from this playlist and its audio features:"
   ]
  },
  {
   "cell_type": "code",
   "execution_count": 5,
   "metadata": {},
   "outputs": [
    {
     "data": {
      "text/plain": [
       "'Anna of the North'"
      ]
     },
     "execution_count": 5,
     "metadata": {},
     "output_type": "execute_result"
    }
   ],
   "source": [
    "sp.playlist_tracks(apple_comm_songs['uri'])['items'][0]['track']['artists'][0]['name'] # Artist"
   ]
  },
  {
   "cell_type": "code",
   "execution_count": 6,
   "metadata": {},
   "outputs": [
    {
     "data": {
      "text/plain": [
       "'Dream Girl'"
      ]
     },
     "execution_count": 6,
     "metadata": {},
     "output_type": "execute_result"
    }
   ],
   "source": [
    "sp.playlist_tracks(apple_comm_songs['uri'])['items'][0]['track']['name'] # Track Title"
   ]
  },
  {
   "cell_type": "code",
   "execution_count": 7,
   "metadata": {},
   "outputs": [
    {
     "data": {
      "text/plain": [
       "'spotify:track:0ZrUS7VVKYmt5VUasiPdXI'"
      ]
     },
     "execution_count": 7,
     "metadata": {},
     "output_type": "execute_result"
    }
   ],
   "source": [
    "sp.playlist_tracks(apple_comm_songs['uri'])['items'][0]['track']['uri'] # URI"
   ]
  },
  {
   "cell_type": "code",
   "execution_count": 8,
   "metadata": {},
   "outputs": [
    {
     "data": {
      "text/plain": [
       "[{'acousticness': 0.765,\n",
       "  'analysis_url': 'https://api.spotify.com/v1/audio-analysis/0ZrUS7VVKYmt5VUasiPdXI',\n",
       "  'danceability': 0.674,\n",
       "  'duration_ms': 151680,\n",
       "  'energy': 0.494,\n",
       "  'id': '0ZrUS7VVKYmt5VUasiPdXI',\n",
       "  'instrumentalness': 3.55e-05,\n",
       "  'key': 0,\n",
       "  'liveness': 0.0879,\n",
       "  'loudness': -5.694,\n",
       "  'mode': 0,\n",
       "  'speechiness': 0.0455,\n",
       "  'tempo': 79.035,\n",
       "  'time_signature': 4,\n",
       "  'track_href': 'https://api.spotify.com/v1/tracks/0ZrUS7VVKYmt5VUasiPdXI',\n",
       "  'type': 'audio_features',\n",
       "  'uri': 'spotify:track:0ZrUS7VVKYmt5VUasiPdXI',\n",
       "  'valence': 0.525}]"
      ]
     },
     "execution_count": 8,
     "metadata": {},
     "output_type": "execute_result"
    }
   ],
   "source": [
    "sp.audio_features('spotify:track:0ZrUS7VVKYmt5VUasiPdXI') # audio features"
   ]
  },
  {
   "cell_type": "markdown",
   "metadata": {},
   "source": [
    "Now we'll go ahead and collect all the individual track information into a dataframe:"
   ]
  },
  {
   "cell_type": "code",
   "execution_count": 9,
   "metadata": {},
   "outputs": [],
   "source": [
    "def playlist_audio_features_df(playlist_tracks):\n",
    "    track_dict = {}\n",
    "    \n",
    "    for i, track in enumerate(playlist_tracks.get('items', [])):\n",
    "        track_dict[track['track']['uri']] = [track['track']['name'], track['track']['artists'][0]['name']]\n",
    "        track_dict[track['track']['uri']].extend([v for v in sp.audio_features(track['track']['uri'])[0].values()])\n",
    "        if i == 0:\n",
    "            audio_feat = [k for k in sp.audio_features(track['track']['uri'])[0].keys()]\n",
    "        \n",
    "    audio_feat_df = pd.DataFrame.from_dict(track_dict, orient='index')\n",
    "    audio_feat_df.columns = ['title', 'artist'] + audio_feat\n",
    "    \n",
    "    return audio_feat_df"
   ]
  },
  {
   "cell_type": "code",
   "execution_count": 10,
   "metadata": {},
   "outputs": [
    {
     "data": {
      "text/html": [
       "<div>\n",
       "<style scoped>\n",
       "    .dataframe tbody tr th:only-of-type {\n",
       "        vertical-align: middle;\n",
       "    }\n",
       "\n",
       "    .dataframe tbody tr th {\n",
       "        vertical-align: top;\n",
       "    }\n",
       "\n",
       "    .dataframe thead th {\n",
       "        text-align: right;\n",
       "    }\n",
       "</style>\n",
       "<table border=\"1\" class=\"dataframe\">\n",
       "  <thead>\n",
       "    <tr style=\"text-align: right;\">\n",
       "      <th></th>\n",
       "      <th>title</th>\n",
       "      <th>artist</th>\n",
       "      <th>danceability</th>\n",
       "      <th>energy</th>\n",
       "      <th>key</th>\n",
       "      <th>loudness</th>\n",
       "      <th>mode</th>\n",
       "      <th>speechiness</th>\n",
       "      <th>acousticness</th>\n",
       "      <th>instrumentalness</th>\n",
       "      <th>liveness</th>\n",
       "      <th>valence</th>\n",
       "      <th>tempo</th>\n",
       "      <th>type</th>\n",
       "      <th>id</th>\n",
       "      <th>uri</th>\n",
       "      <th>track_href</th>\n",
       "      <th>analysis_url</th>\n",
       "      <th>duration_ms</th>\n",
       "      <th>time_signature</th>\n",
       "    </tr>\n",
       "  </thead>\n",
       "  <tbody>\n",
       "    <tr>\n",
       "      <th>0</th>\n",
       "      <td>Dream Girl</td>\n",
       "      <td>Anna of the North</td>\n",
       "      <td>0.674</td>\n",
       "      <td>0.494</td>\n",
       "      <td>0</td>\n",
       "      <td>-5.694</td>\n",
       "      <td>0</td>\n",
       "      <td>0.0455</td>\n",
       "      <td>0.765000</td>\n",
       "      <td>0.000036</td>\n",
       "      <td>0.0879</td>\n",
       "      <td>0.5250</td>\n",
       "      <td>79.035</td>\n",
       "      <td>audio_features</td>\n",
       "      <td>0ZrUS7VVKYmt5VUasiPdXI</td>\n",
       "      <td>spotify:track:0ZrUS7VVKYmt5VUasiPdXI</td>\n",
       "      <td>https://api.spotify.com/v1/tracks/0ZrUS7VVKYmt...</td>\n",
       "      <td>https://api.spotify.com/v1/audio-analysis/0ZrU...</td>\n",
       "      <td>151680</td>\n",
       "      <td>4</td>\n",
       "    </tr>\n",
       "    <tr>\n",
       "      <th>1</th>\n",
       "      <td>Asleep at the Parade</td>\n",
       "      <td>The Young Ebenezers</td>\n",
       "      <td>0.792</td>\n",
       "      <td>0.216</td>\n",
       "      <td>10</td>\n",
       "      <td>-18.895</td>\n",
       "      <td>1</td>\n",
       "      <td>0.0541</td>\n",
       "      <td>0.993000</td>\n",
       "      <td>0.911000</td>\n",
       "      <td>0.1140</td>\n",
       "      <td>0.2640</td>\n",
       "      <td>115.028</td>\n",
       "      <td>audio_features</td>\n",
       "      <td>5Sjtb4RBxvLmvHwPE0PTZZ</td>\n",
       "      <td>spotify:track:5Sjtb4RBxvLmvHwPE0PTZZ</td>\n",
       "      <td>https://api.spotify.com/v1/tracks/5Sjtb4RBxvLm...</td>\n",
       "      <td>https://api.spotify.com/v1/audio-analysis/5Sjt...</td>\n",
       "      <td>94582</td>\n",
       "      <td>3</td>\n",
       "    </tr>\n",
       "    <tr>\n",
       "      <th>2</th>\n",
       "      <td>The Difference</td>\n",
       "      <td>Flume</td>\n",
       "      <td>0.560</td>\n",
       "      <td>0.865</td>\n",
       "      <td>1</td>\n",
       "      <td>-1.148</td>\n",
       "      <td>1</td>\n",
       "      <td>0.0909</td>\n",
       "      <td>0.255000</td>\n",
       "      <td>0.000153</td>\n",
       "      <td>0.0830</td>\n",
       "      <td>0.4240</td>\n",
       "      <td>159.960</td>\n",
       "      <td>audio_features</td>\n",
       "      <td>4nlvKIIetOWGIMyhjQXgOZ</td>\n",
       "      <td>spotify:track:4nlvKIIetOWGIMyhjQXgOZ</td>\n",
       "      <td>https://api.spotify.com/v1/tracks/4nlvKIIetOWG...</td>\n",
       "      <td>https://api.spotify.com/v1/audio-analysis/4nlv...</td>\n",
       "      <td>139663</td>\n",
       "      <td>4</td>\n",
       "    </tr>\n",
       "    <tr>\n",
       "      <th>3</th>\n",
       "      <td>Stupid Love</td>\n",
       "      <td>Lady Gaga</td>\n",
       "      <td>0.676</td>\n",
       "      <td>0.815</td>\n",
       "      <td>8</td>\n",
       "      <td>-4.294</td>\n",
       "      <td>1</td>\n",
       "      <td>0.0625</td>\n",
       "      <td>0.001460</td>\n",
       "      <td>0.000410</td>\n",
       "      <td>0.2750</td>\n",
       "      <td>0.7960</td>\n",
       "      <td>117.973</td>\n",
       "      <td>audio_features</td>\n",
       "      <td>2kJu14V7hbZw3I4K8L8SXb</td>\n",
       "      <td>spotify:track:2kJu14V7hbZw3I4K8L8SXb</td>\n",
       "      <td>https://api.spotify.com/v1/tracks/2kJu14V7hbZw...</td>\n",
       "      <td>https://api.spotify.com/v1/audio-analysis/2kJu...</td>\n",
       "      <td>193531</td>\n",
       "      <td>4</td>\n",
       "    </tr>\n",
       "    <tr>\n",
       "      <th>4</th>\n",
       "      <td>***Flawless (feat. Chimamanda Ngozi Adichie)</td>\n",
       "      <td>Beyoncé</td>\n",
       "      <td>0.476</td>\n",
       "      <td>0.688</td>\n",
       "      <td>1</td>\n",
       "      <td>-7.799</td>\n",
       "      <td>1</td>\n",
       "      <td>0.2450</td>\n",
       "      <td>0.095300</td>\n",
       "      <td>0.000645</td>\n",
       "      <td>0.4380</td>\n",
       "      <td>0.3520</td>\n",
       "      <td>140.553</td>\n",
       "      <td>audio_features</td>\n",
       "      <td>7tefUew2RUuSAqHyegMoY1</td>\n",
       "      <td>spotify:track:7tefUew2RUuSAqHyegMoY1</td>\n",
       "      <td>https://api.spotify.com/v1/tracks/7tefUew2RUuS...</td>\n",
       "      <td>https://api.spotify.com/v1/audio-analysis/7tef...</td>\n",
       "      <td>250960</td>\n",
       "      <td>4</td>\n",
       "    </tr>\n",
       "    <tr>\n",
       "      <th>...</th>\n",
       "      <td>...</td>\n",
       "      <td>...</td>\n",
       "      <td>...</td>\n",
       "      <td>...</td>\n",
       "      <td>...</td>\n",
       "      <td>...</td>\n",
       "      <td>...</td>\n",
       "      <td>...</td>\n",
       "      <td>...</td>\n",
       "      <td>...</td>\n",
       "      <td>...</td>\n",
       "      <td>...</td>\n",
       "      <td>...</td>\n",
       "      <td>...</td>\n",
       "      <td>...</td>\n",
       "      <td>...</td>\n",
       "      <td>...</td>\n",
       "      <td>...</td>\n",
       "      <td>...</td>\n",
       "      <td>...</td>\n",
       "    </tr>\n",
       "    <tr>\n",
       "      <th>479</th>\n",
       "      <td>Balla Balla</td>\n",
       "      <td>Brazilian Girls</td>\n",
       "      <td>0.671</td>\n",
       "      <td>0.854</td>\n",
       "      <td>10</td>\n",
       "      <td>-7.118</td>\n",
       "      <td>0</td>\n",
       "      <td>0.0427</td>\n",
       "      <td>0.045600</td>\n",
       "      <td>0.317000</td>\n",
       "      <td>0.0886</td>\n",
       "      <td>0.3310</td>\n",
       "      <td>108.980</td>\n",
       "      <td>audio_features</td>\n",
       "      <td>3Zz6s2igHj1MaVTBWNz0BY</td>\n",
       "      <td>spotify:track:3Zz6s2igHj1MaVTBWNz0BY</td>\n",
       "      <td>https://api.spotify.com/v1/tracks/3Zz6s2igHj1M...</td>\n",
       "      <td>https://api.spotify.com/v1/audio-analysis/3Zz6...</td>\n",
       "      <td>284047</td>\n",
       "      <td>4</td>\n",
       "    </tr>\n",
       "    <tr>\n",
       "      <th>480</th>\n",
       "      <td>Young</td>\n",
       "      <td>Jaded</td>\n",
       "      <td>0.831</td>\n",
       "      <td>0.839</td>\n",
       "      <td>7</td>\n",
       "      <td>-5.234</td>\n",
       "      <td>1</td>\n",
       "      <td>0.0623</td>\n",
       "      <td>0.036100</td>\n",
       "      <td>0.001190</td>\n",
       "      <td>0.0849</td>\n",
       "      <td>0.5580</td>\n",
       "      <td>104.015</td>\n",
       "      <td>audio_features</td>\n",
       "      <td>3GpxUJeWPevtO37bbVkf3B</td>\n",
       "      <td>spotify:track:3GpxUJeWPevtO37bbVkf3B</td>\n",
       "      <td>https://api.spotify.com/v1/tracks/3GpxUJeWPevt...</td>\n",
       "      <td>https://api.spotify.com/v1/audio-analysis/3Gpx...</td>\n",
       "      <td>140759</td>\n",
       "      <td>4</td>\n",
       "    </tr>\n",
       "    <tr>\n",
       "      <th>481</th>\n",
       "      <td>No Brainer</td>\n",
       "      <td>DJ Khaled</td>\n",
       "      <td>0.552</td>\n",
       "      <td>0.760</td>\n",
       "      <td>0</td>\n",
       "      <td>-4.706</td>\n",
       "      <td>1</td>\n",
       "      <td>0.3420</td>\n",
       "      <td>0.073300</td>\n",
       "      <td>0.000000</td>\n",
       "      <td>0.0865</td>\n",
       "      <td>0.6390</td>\n",
       "      <td>135.702</td>\n",
       "      <td>audio_features</td>\n",
       "      <td>5WvAo7DNuPRmk4APhdPzi8</td>\n",
       "      <td>spotify:track:5WvAo7DNuPRmk4APhdPzi8</td>\n",
       "      <td>https://api.spotify.com/v1/tracks/5WvAo7DNuPRm...</td>\n",
       "      <td>https://api.spotify.com/v1/audio-analysis/5WvA...</td>\n",
       "      <td>260000</td>\n",
       "      <td>5</td>\n",
       "    </tr>\n",
       "    <tr>\n",
       "      <th>482</th>\n",
       "      <td>1,2,1,2</td>\n",
       "      <td>George The Poet</td>\n",
       "      <td>0.841</td>\n",
       "      <td>0.712</td>\n",
       "      <td>6</td>\n",
       "      <td>-8.782</td>\n",
       "      <td>0</td>\n",
       "      <td>0.2110</td>\n",
       "      <td>0.076100</td>\n",
       "      <td>0.000996</td>\n",
       "      <td>0.1870</td>\n",
       "      <td>0.6810</td>\n",
       "      <td>119.988</td>\n",
       "      <td>audio_features</td>\n",
       "      <td>70OQhhSB6LFF10HsQwSQNn</td>\n",
       "      <td>spotify:track:70OQhhSB6LFF10HsQwSQNn</td>\n",
       "      <td>https://api.spotify.com/v1/tracks/70OQhhSB6LFF...</td>\n",
       "      <td>https://api.spotify.com/v1/audio-analysis/70OQ...</td>\n",
       "      <td>224221</td>\n",
       "      <td>4</td>\n",
       "    </tr>\n",
       "    <tr>\n",
       "      <th>483</th>\n",
       "      <td>The Last Day</td>\n",
       "      <td>Brokenstra</td>\n",
       "      <td>0.594</td>\n",
       "      <td>0.857</td>\n",
       "      <td>9</td>\n",
       "      <td>-5.711</td>\n",
       "      <td>1</td>\n",
       "      <td>0.0616</td>\n",
       "      <td>0.000374</td>\n",
       "      <td>0.753000</td>\n",
       "      <td>0.1220</td>\n",
       "      <td>0.0876</td>\n",
       "      <td>97.049</td>\n",
       "      <td>audio_features</td>\n",
       "      <td>4VVNGR2mdPKUQeLD7td6aW</td>\n",
       "      <td>spotify:track:4VVNGR2mdPKUQeLD7td6aW</td>\n",
       "      <td>https://api.spotify.com/v1/tracks/4VVNGR2mdPKU...</td>\n",
       "      <td>https://api.spotify.com/v1/audio-analysis/4VVN...</td>\n",
       "      <td>193735</td>\n",
       "      <td>4</td>\n",
       "    </tr>\n",
       "  </tbody>\n",
       "</table>\n",
       "<p>484 rows × 20 columns</p>\n",
       "</div>"
      ],
      "text/plain": [
       "                                            title               artist  \\\n",
       "0                                      Dream Girl    Anna of the North   \n",
       "1                            Asleep at the Parade  The Young Ebenezers   \n",
       "2                                  The Difference                Flume   \n",
       "3                                     Stupid Love            Lady Gaga   \n",
       "4    ***Flawless (feat. Chimamanda Ngozi Adichie)              Beyoncé   \n",
       "..                                            ...                  ...   \n",
       "479                                   Balla Balla      Brazilian Girls   \n",
       "480                                         Young                Jaded   \n",
       "481                                    No Brainer            DJ Khaled   \n",
       "482                                       1,2,1,2      George The Poet   \n",
       "483                                  The Last Day           Brokenstra   \n",
       "\n",
       "     danceability  energy  key  loudness  mode  speechiness  acousticness  \\\n",
       "0           0.674   0.494    0    -5.694     0       0.0455      0.765000   \n",
       "1           0.792   0.216   10   -18.895     1       0.0541      0.993000   \n",
       "2           0.560   0.865    1    -1.148     1       0.0909      0.255000   \n",
       "3           0.676   0.815    8    -4.294     1       0.0625      0.001460   \n",
       "4           0.476   0.688    1    -7.799     1       0.2450      0.095300   \n",
       "..            ...     ...  ...       ...   ...          ...           ...   \n",
       "479         0.671   0.854   10    -7.118     0       0.0427      0.045600   \n",
       "480         0.831   0.839    7    -5.234     1       0.0623      0.036100   \n",
       "481         0.552   0.760    0    -4.706     1       0.3420      0.073300   \n",
       "482         0.841   0.712    6    -8.782     0       0.2110      0.076100   \n",
       "483         0.594   0.857    9    -5.711     1       0.0616      0.000374   \n",
       "\n",
       "     instrumentalness  liveness  valence    tempo            type  \\\n",
       "0            0.000036    0.0879   0.5250   79.035  audio_features   \n",
       "1            0.911000    0.1140   0.2640  115.028  audio_features   \n",
       "2            0.000153    0.0830   0.4240  159.960  audio_features   \n",
       "3            0.000410    0.2750   0.7960  117.973  audio_features   \n",
       "4            0.000645    0.4380   0.3520  140.553  audio_features   \n",
       "..                ...       ...      ...      ...             ...   \n",
       "479          0.317000    0.0886   0.3310  108.980  audio_features   \n",
       "480          0.001190    0.0849   0.5580  104.015  audio_features   \n",
       "481          0.000000    0.0865   0.6390  135.702  audio_features   \n",
       "482          0.000996    0.1870   0.6810  119.988  audio_features   \n",
       "483          0.753000    0.1220   0.0876   97.049  audio_features   \n",
       "\n",
       "                         id                                   uri  \\\n",
       "0    0ZrUS7VVKYmt5VUasiPdXI  spotify:track:0ZrUS7VVKYmt5VUasiPdXI   \n",
       "1    5Sjtb4RBxvLmvHwPE0PTZZ  spotify:track:5Sjtb4RBxvLmvHwPE0PTZZ   \n",
       "2    4nlvKIIetOWGIMyhjQXgOZ  spotify:track:4nlvKIIetOWGIMyhjQXgOZ   \n",
       "3    2kJu14V7hbZw3I4K8L8SXb  spotify:track:2kJu14V7hbZw3I4K8L8SXb   \n",
       "4    7tefUew2RUuSAqHyegMoY1  spotify:track:7tefUew2RUuSAqHyegMoY1   \n",
       "..                      ...                                   ...   \n",
       "479  3Zz6s2igHj1MaVTBWNz0BY  spotify:track:3Zz6s2igHj1MaVTBWNz0BY   \n",
       "480  3GpxUJeWPevtO37bbVkf3B  spotify:track:3GpxUJeWPevtO37bbVkf3B   \n",
       "481  5WvAo7DNuPRmk4APhdPzi8  spotify:track:5WvAo7DNuPRmk4APhdPzi8   \n",
       "482  70OQhhSB6LFF10HsQwSQNn  spotify:track:70OQhhSB6LFF10HsQwSQNn   \n",
       "483  4VVNGR2mdPKUQeLD7td6aW  spotify:track:4VVNGR2mdPKUQeLD7td6aW   \n",
       "\n",
       "                                            track_href  \\\n",
       "0    https://api.spotify.com/v1/tracks/0ZrUS7VVKYmt...   \n",
       "1    https://api.spotify.com/v1/tracks/5Sjtb4RBxvLm...   \n",
       "2    https://api.spotify.com/v1/tracks/4nlvKIIetOWG...   \n",
       "3    https://api.spotify.com/v1/tracks/2kJu14V7hbZw...   \n",
       "4    https://api.spotify.com/v1/tracks/7tefUew2RUuS...   \n",
       "..                                                 ...   \n",
       "479  https://api.spotify.com/v1/tracks/3Zz6s2igHj1M...   \n",
       "480  https://api.spotify.com/v1/tracks/3GpxUJeWPevt...   \n",
       "481  https://api.spotify.com/v1/tracks/5WvAo7DNuPRm...   \n",
       "482  https://api.spotify.com/v1/tracks/70OQhhSB6LFF...   \n",
       "483  https://api.spotify.com/v1/tracks/4VVNGR2mdPKU...   \n",
       "\n",
       "                                          analysis_url  duration_ms  \\\n",
       "0    https://api.spotify.com/v1/audio-analysis/0ZrU...       151680   \n",
       "1    https://api.spotify.com/v1/audio-analysis/5Sjt...        94582   \n",
       "2    https://api.spotify.com/v1/audio-analysis/4nlv...       139663   \n",
       "3    https://api.spotify.com/v1/audio-analysis/2kJu...       193531   \n",
       "4    https://api.spotify.com/v1/audio-analysis/7tef...       250960   \n",
       "..                                                 ...          ...   \n",
       "479  https://api.spotify.com/v1/audio-analysis/3Zz6...       284047   \n",
       "480  https://api.spotify.com/v1/audio-analysis/3Gpx...       140759   \n",
       "481  https://api.spotify.com/v1/audio-analysis/5WvA...       260000   \n",
       "482  https://api.spotify.com/v1/audio-analysis/70OQ...       224221   \n",
       "483  https://api.spotify.com/v1/audio-analysis/4VVN...       193735   \n",
       "\n",
       "     time_signature  \n",
       "0                 4  \n",
       "1                 3  \n",
       "2                 4  \n",
       "3                 4  \n",
       "4                 4  \n",
       "..              ...  \n",
       "479               4  \n",
       "480               4  \n",
       "481               5  \n",
       "482               4  \n",
       "483               4  \n",
       "\n",
       "[484 rows x 20 columns]"
      ]
     },
     "execution_count": 10,
     "metadata": {},
     "output_type": "execute_result"
    }
   ],
   "source": [
    "tracks = sp.playlist_tracks(apple_comm_songs['uri'])\n",
    "audio_features_df = playlist_audio_features_df(tracks)\n",
    "while tracks['next']:\n",
    "    tracks = sp.next(tracks)\n",
    "    tmp_df = playlist_audio_features_df(tracks)\n",
    "    audio_features_df = pd.concat([audio_features_df, tmp_df])\n",
    "audio_features_df = audio_features_df.reset_index().drop(columns='index')\n",
    "audio_features_df"
   ]
  },
  {
   "cell_type": "markdown",
   "metadata": {},
   "source": [
    "Let's now focus on the nine primary audio features, as detailed [here](https://developer.spotify.com/documentation/web-api/reference/tracks/get-audio-features/). Since we can clearly see that the `tempo` and `loudness` are on different scales from the remaining features, let's also standardize everything."
   ]
  },
  {
   "cell_type": "code",
   "execution_count": 11,
   "metadata": {},
   "outputs": [],
   "source": [
    "main_audio_features = ['acousticness',\n",
    "                       'danceability',\n",
    "                       'energy',\n",
    "                       'instrumentalness',\n",
    "                       'liveness',\n",
    "                       'loudness',\n",
    "                       'speechiness',\n",
    "                       'valence',\n",
    "                       'tempo']\n",
    "audio_features_scaled = (audio_features_df[main_audio_features] - audio_features_df[main_audio_features].mean()) / audio_features_df[main_audio_features].std()"
   ]
  },
  {
   "cell_type": "markdown",
   "metadata": {},
   "source": [
    "Taking a look at the distributions of the standardized features, it's hard to see serious deviations from the distribution across all Spotify tracks -- i.e., the songs in Apple commercials are fairly representative of music on Spotify in general and perhaps there's no specific \"type\" of song that ends up in Apple commercials:"
   ]
  },
  {
   "cell_type": "code",
   "execution_count": 12,
   "metadata": {},
   "outputs": [
    {
     "data": {
      "text/plain": [
       "<matplotlib.axes._subplots.AxesSubplot at 0x1254fc2b0>"
      ]
     },
     "execution_count": 12,
     "metadata": {},
     "output_type": "execute_result"
    },
    {
     "data": {
      "image/png": "[encoded data removed]",
      "text/plain": [
       "<Figure size 432x288 with 1 Axes>"
      ]
     },
     "metadata": {},
     "output_type": "display_data"
    }
   ],
   "source": [
    "sns.boxplot(data=audio_features_scaled, orient='h')"
   ]
  },
  {
   "cell_type": "markdown",
   "metadata": {},
   "source": [
    "Let's still go forward and try to understand the features of the Apple-est track. As the audio features mostly have skewed distributions, we'll use the median as our measure of central tendency for all features:"
   ]
  },
  {
   "cell_type": "code",
   "execution_count": 13,
   "metadata": {},
   "outputs": [
    {
     "data": {
      "text/plain": [
       "acousticness       -0.548998\n",
       "danceability        0.056254\n",
       "energy              0.220287\n",
       "instrumentalness   -0.588169\n",
       "liveness           -0.382293\n",
       "loudness            0.251512\n",
       "speechiness        -0.366855\n",
       "valence             0.028113\n",
       "tempo              -0.089055\n",
       "dtype: float64"
      ]
     },
     "execution_count": 13,
     "metadata": {},
     "output_type": "execute_result"
    }
   ],
   "source": [
    "median_track = audio_features_scaled.median()\n",
    "median_track"
   ]
  },
  {
   "cell_type": "markdown",
   "metadata": {},
   "source": [
    "What does this say? Seems as if the Apple-est track is kind of right down the middle as far as `tempo`, `valence` and `danceability` go -- which I suppose makes sense if Apple sometimes develops commercials that are better paired with slower or sadder music while others are more \"celbratory\" in nature. The Apple-est track does seem to be definitively enough not very acoustic, instrumental or speechy, but also kind of more than a middling amount of `energy` and `loudness` regardless of whatever emotion or tone their commercials are attempting to capture."
   ]
  },
  {
   "cell_type": "markdown",
   "metadata": {},
   "source": [
    "Let's take the distance of each actual track from this theoretical Apple-est track to see which are the most and least representative of the tracks used in Apple commercials: "
   ]
  },
  {
   "cell_type": "code",
   "execution_count": 14,
   "metadata": {},
   "outputs": [],
   "source": [
    "dist_from_median_track = [np.sqrt(np.sum((median_track - row[1])**2)) for row in audio_features_scaled.iterrows()]"
   ]
  },
  {
   "cell_type": "markdown",
   "metadata": {},
   "source": [
    "Here are the 10 Apple-est tracks of all of them:"
   ]
  },
  {
   "cell_type": "code",
   "execution_count": 15,
   "metadata": {},
   "outputs": [
    {
     "data": {
      "text/html": [
       "<div>\n",
       "<style scoped>\n",
       "    .dataframe tbody tr th:only-of-type {\n",
       "        vertical-align: middle;\n",
       "    }\n",
       "\n",
       "    .dataframe tbody tr th {\n",
       "        vertical-align: top;\n",
       "    }\n",
       "\n",
       "    .dataframe thead th {\n",
       "        text-align: right;\n",
       "    }\n",
       "</style>\n",
       "<table border=\"1\" class=\"dataframe\">\n",
       "  <thead>\n",
       "    <tr style=\"text-align: right;\">\n",
       "      <th></th>\n",
       "      <th>title</th>\n",
       "      <th>artist</th>\n",
       "    </tr>\n",
       "  </thead>\n",
       "  <tbody>\n",
       "    <tr>\n",
       "      <th>233</th>\n",
       "      <td>Inside Your Head</td>\n",
       "      <td>Eberg</td>\n",
       "    </tr>\n",
       "    <tr>\n",
       "      <th>158</th>\n",
       "      <td>Ojai</td>\n",
       "      <td>Young &amp; Sick</td>\n",
       "    </tr>\n",
       "    <tr>\n",
       "      <th>364</th>\n",
       "      <td>Sun's Comin' up</td>\n",
       "      <td>Animal Fiction</td>\n",
       "    </tr>\n",
       "    <tr>\n",
       "      <th>126</th>\n",
       "      <td>Misbehaving</td>\n",
       "      <td>Labrinth</td>\n",
       "    </tr>\n",
       "    <tr>\n",
       "      <th>291</th>\n",
       "      <td>Somnambulist (Simply Being Loved)</td>\n",
       "      <td>BT</td>\n",
       "    </tr>\n",
       "    <tr>\n",
       "      <th>134</th>\n",
       "      <td>La La La</td>\n",
       "      <td>the bird and the bee</td>\n",
       "    </tr>\n",
       "    <tr>\n",
       "      <th>318</th>\n",
       "      <td>We Turn It Up</td>\n",
       "      <td>Oh Land</td>\n",
       "    </tr>\n",
       "    <tr>\n",
       "      <th>66</th>\n",
       "      <td>Heavy, California</td>\n",
       "      <td>Jungle</td>\n",
       "    </tr>\n",
       "    <tr>\n",
       "      <th>342</th>\n",
       "      <td>Good Life</td>\n",
       "      <td>OneRepublic</td>\n",
       "    </tr>\n",
       "    <tr>\n",
       "      <th>13</th>\n",
       "      <td>Sympathy</td>\n",
       "      <td>Vampire Weekend</td>\n",
       "    </tr>\n",
       "  </tbody>\n",
       "</table>\n",
       "</div>"
      ],
      "text/plain": [
       "                                 title                artist\n",
       "233                   Inside Your Head                 Eberg\n",
       "158                               Ojai          Young & Sick\n",
       "364                    Sun's Comin' up        Animal Fiction\n",
       "126                        Misbehaving              Labrinth\n",
       "291  Somnambulist (Simply Being Loved)                    BT\n",
       "134                           La La La  the bird and the bee\n",
       "318                      We Turn It Up               Oh Land\n",
       "66                   Heavy, California                Jungle\n",
       "342                          Good Life           OneRepublic\n",
       "13                            Sympathy       Vampire Weekend"
      ]
     },
     "execution_count": 15,
     "metadata": {},
     "output_type": "execute_result"
    }
   ],
   "source": [
    "top10 = audio_features_df.iloc[np.argsort(dist_from_median_track)[:10].tolist()][['title', 'artist']]\n",
    "top10"
   ]
  },
  {
   "cell_type": "code",
   "execution_count": 16,
   "metadata": {},
   "outputs": [
    {
     "data": {
      "text/plain": [
       "'Inside Your Head Eberg'"
      ]
     },
     "execution_count": 16,
     "metadata": {},
     "output_type": "execute_result"
    }
   ],
   "source": [
    "search_str = top10.iloc[0]['title'] + ' ' + top10.iloc[0]['artist']\n",
    "search_str"
   ]
  },
  {
   "cell_type": "code",
   "execution_count": 17,
   "metadata": {},
   "outputs": [
    {
     "data": {
      "text/html": [
       "\n",
       "        <iframe\n",
       "            width=\"300\"\n",
       "            height=\"380\"\n",
       "            src=\"https://open.spotify.com/embed/track/77dZJZVxG9HWhR8xsVExmT\"\n",
       "            frameborder=\"0\"\n",
       "            allowfullscreen\n",
       "        ></iframe>\n",
       "        "
      ],
      "text/plain": [
       "<IPython.lib.display.IFrame at 0x1255fa2e8>"
      ]
     },
     "execution_count": 17,
     "metadata": {},
     "output_type": "execute_result"
    }
   ],
   "source": [
    "track_id = sp.search(search_str)['tracks']['items'][0]['id']\n",
    "IFrame(src = 'https://open.spotify.com/embed/track/' + track_id, width='300', height='380')"
   ]
  },
  {
   "cell_type": "markdown",
   "metadata": {},
   "source": [
    "I've never heard this song before now and don't recall an Apple commercial featuring it. It actually kind of fits, in my opinion though."
   ]
  },
  {
   "cell_type": "markdown",
   "metadata": {},
   "source": [
    "Now for the unApple-est tracks of all the tracks:"
   ]
  },
  {
   "cell_type": "code",
   "execution_count": 18,
   "metadata": {},
   "outputs": [
    {
     "data": {
      "text/html": [
       "<div>\n",
       "<style scoped>\n",
       "    .dataframe tbody tr th:only-of-type {\n",
       "        vertical-align: middle;\n",
       "    }\n",
       "\n",
       "    .dataframe tbody tr th {\n",
       "        vertical-align: top;\n",
       "    }\n",
       "\n",
       "    .dataframe thead th {\n",
       "        text-align: right;\n",
       "    }\n",
       "</style>\n",
       "<table border=\"1\" class=\"dataframe\">\n",
       "  <thead>\n",
       "    <tr style=\"text-align: right;\">\n",
       "      <th></th>\n",
       "      <th>title</th>\n",
       "      <th>artist</th>\n",
       "    </tr>\n",
       "  </thead>\n",
       "  <tbody>\n",
       "    <tr>\n",
       "      <th>55</th>\n",
       "      <td>Ann Arbor Part 1</td>\n",
       "      <td>Shigeto</td>\n",
       "    </tr>\n",
       "    <tr>\n",
       "      <th>280</th>\n",
       "      <td>Brandenburg Concerto No. 5 in D Major</td>\n",
       "      <td>Munich Chamber Orchestra</td>\n",
       "    </tr>\n",
       "    <tr>\n",
       "      <th>53</th>\n",
       "      <td>Stay Awake</td>\n",
       "      <td>Julie Andrews</td>\n",
       "    </tr>\n",
       "    <tr>\n",
       "      <th>295</th>\n",
       "      <td>It's Like That - feat. Casual + I Am Complete ...</td>\n",
       "      <td>Handsome Boy Modeling School</td>\n",
       "    </tr>\n",
       "    <tr>\n",
       "      <th>73</th>\n",
       "      <td>Blue (From the 'Photos Every Day' TV Advert)</td>\n",
       "      <td>L'Orchestra Cinematique</td>\n",
       "    </tr>\n",
       "    <tr>\n",
       "      <th>439</th>\n",
       "      <td>Last Rites / Loved to Deth - Remastered</td>\n",
       "      <td>Megadeth</td>\n",
       "    </tr>\n",
       "    <tr>\n",
       "      <th>459</th>\n",
       "      <td>Like Home</td>\n",
       "      <td>Trent Reznor</td>\n",
       "    </tr>\n",
       "    <tr>\n",
       "      <th>176</th>\n",
       "      <td>I Happen to Like New York (From the New Yorker...</td>\n",
       "      <td>Bobby Short</td>\n",
       "    </tr>\n",
       "    <tr>\n",
       "      <th>27</th>\n",
       "      <td>Eighteenth</td>\n",
       "      <td>Corre</td>\n",
       "    </tr>\n",
       "    <tr>\n",
       "      <th>337</th>\n",
       "      <td>Waltz Of The Flowers</td>\n",
       "      <td>San Francisco Ballet Orchestra</td>\n",
       "    </tr>\n",
       "  </tbody>\n",
       "</table>\n",
       "</div>"
      ],
      "text/plain": [
       "                                                 title  \\\n",
       "55                                    Ann Arbor Part 1   \n",
       "280              Brandenburg Concerto No. 5 in D Major   \n",
       "53                                          Stay Awake   \n",
       "295  It's Like That - feat. Casual + I Am Complete ...   \n",
       "73        Blue (From the 'Photos Every Day' TV Advert)   \n",
       "439            Last Rites / Loved to Deth - Remastered   \n",
       "459                                          Like Home   \n",
       "176  I Happen to Like New York (From the New Yorker...   \n",
       "27                                          Eighteenth   \n",
       "337                               Waltz Of The Flowers   \n",
       "\n",
       "                             artist  \n",
       "55                          Shigeto  \n",
       "280        Munich Chamber Orchestra  \n",
       "53                    Julie Andrews  \n",
       "295    Handsome Boy Modeling School  \n",
       "73          L'Orchestra Cinematique  \n",
       "439                        Megadeth  \n",
       "459                    Trent Reznor  \n",
       "176                     Bobby Short  \n",
       "27                            Corre  \n",
       "337  San Francisco Ballet Orchestra  "
      ]
     },
     "execution_count": 18,
     "metadata": {},
     "output_type": "execute_result"
    }
   ],
   "source": [
    "bottom10 = audio_features_df.iloc[np.argsort(dist_from_median_track)[::-1][:10].tolist()][['title', 'artist']]\n",
    "bottom10"
   ]
  },
  {
   "cell_type": "markdown",
   "metadata": {},
   "source": [
    "Well some of this makes sense, what with all the instrumentals and artists like Megadeth and Trent Reznor (and Julie Andrews?)"
   ]
  },
  {
   "cell_type": "markdown",
   "metadata": {},
   "source": [
    "Digging a little deeper into the features of the Apple-est and unApple-est just to see how well everything lines up -- and 'Inside Your Head' certainly lines up quite well with the theoretical Apple-est track in terms of `acousticness`, `energy`, `instrumentalness`, `liveness`, `speechiness` and `tempo`."
   ]
  },
  {
   "cell_type": "code",
   "execution_count": 19,
   "metadata": {},
   "outputs": [
    {
     "data": {
      "text/plain": [
       "acousticness       -0.658469\n",
       "danceability        0.516724\n",
       "energy              0.224541\n",
       "instrumentalness   -0.489717\n",
       "liveness           -0.595285\n",
       "loudness           -0.225638\n",
       "speechiness        -0.378476\n",
       "valence            -0.498222\n",
       "tempo               0.054214\n",
       "Name: 233, dtype: float64"
      ]
     },
     "execution_count": 19,
     "metadata": {},
     "output_type": "execute_result"
    }
   ],
   "source": [
    "audio_features_scaled.iloc[np.argsort(dist_from_median_track)[0]]"
   ]
  },
  {
   "cell_type": "markdown",
   "metadata": {},
   "source": [
    "As for the unApple-est track \"Ann Arbor Part 1,\" it's not hard to see how it ended up that way with how much of an outlier it appears to be for `speechiness` as well as being off the norm in terms of `energy`, `liveness`, and `energy`."
   ]
  },
  {
   "cell_type": "code",
   "execution_count": 20,
   "metadata": {},
   "outputs": [
    {
     "data": {
      "text/plain": [
       "acousticness       -0.759519\n",
       "danceability       -0.568887\n",
       "energy              1.104950\n",
       "instrumentalness   -0.591448\n",
       "liveness            1.454603\n",
       "loudness            0.045156\n",
       "speechiness         8.643689\n",
       "valence             0.336258\n",
       "tempo              -1.108983\n",
       "Name: 55, dtype: float64"
      ]
     },
     "execution_count": 20,
     "metadata": {},
     "output_type": "execute_result"
    }
   ],
   "source": [
    "audio_features_scaled.iloc[np.argsort(dist_from_median_track)[-1]]"
   ]
  },
  {
   "cell_type": "markdown",
   "metadata": {},
   "source": [
    "I am not sure I'm buying how speechy and live this is, nor how lacking in instrumentals either, though:"
   ]
  },
  {
   "cell_type": "code",
   "execution_count": 21,
   "metadata": {},
   "outputs": [
    {
     "data": {
      "text/html": [
       "\n",
       "        <iframe\n",
       "            width=\"300\"\n",
       "            height=\"380\"\n",
       "            src=\"https://open.spotify.com/embed/track/2wzLleSAXMaUkHjqzI1QSB\"\n",
       "            frameborder=\"0\"\n",
       "            allowfullscreen\n",
       "        ></iframe>\n",
       "        "
      ],
      "text/plain": [
       "<IPython.lib.display.IFrame at 0x12521a3c8>"
      ]
     },
     "execution_count": 21,
     "metadata": {},
     "output_type": "execute_result"
    }
   ],
   "source": [
    "search_str2 = bottom10.iloc[0]['title'] + ' ' + bottom10.iloc[0]['artist']\n",
    "track_id2 = sp.search(search_str2)['tracks']['items'][0]['id']\n",
    "IFrame(src = 'https://open.spotify.com/embed/track/' + track_id2, width='300', height='380')"
   ]
  }
 ],
 "metadata": {
  "kernelspec": {
   "display_name": "Python 3",
   "language": "python",
   "name": "python3"
  },
  "language_info": {
   "codemirror_mode": {
    "name": "ipython",
    "version": 3
   },
   "file_extension": ".py",
   "mimetype": "text/x-python",
   "name": "python",
   "nbconvert_exporter": "python",
   "pygments_lexer": "ipython3",
   "version": "3.6.4"
  }
 },
 "nbformat": 4,
 "nbformat_minor": 2
}
