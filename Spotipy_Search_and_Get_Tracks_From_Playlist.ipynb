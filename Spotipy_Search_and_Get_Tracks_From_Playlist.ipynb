{
 "cells": [
  {
   "cell_type": "markdown",
   "metadata": {},
   "source": [
    "# Using the Spotify API to Search for and Get Tracks from a Playlist"
   ]
  },
  {
   "cell_type": "markdown",
   "metadata": {},
   "source": [
    "This notebook goes through the basic process of using [Spotipy](https://spotipy.readthedocs.io/en/2.11.1/) to access the Spotify API and (as the title says) search for a playlist and get all its tracks (in the case of this notebook, that means printing them out -- a later notebook will go through actually getting audio features and other info about these tracks)."
   ]
  },
  {
   "cell_type": "code",
   "execution_count": 1,
   "metadata": {},
   "outputs": [],
   "source": [
    "import spotipy\n",
    "from spotipy.oauth2 import SpotifyClientCredentials"
   ]
  },
  {
   "cell_type": "markdown",
   "metadata": {},
   "source": [
    "Below you can see how to use the [Client Credentials Flow](https://spotipy.readthedocs.io/en/2.11.1/#client-credentials-flow) to access the API. I followed the details in this [post](https://medium.com/@maxtingle/getting-started-with-spotifys-api-spotipy-197c3dc6353b) to set up my credentials."
   ]
  },
  {
   "cell_type": "code",
   "execution_count": 2,
   "metadata": {},
   "outputs": [],
   "source": [
    "cid = # your client id\n",
    "secret = # your client secret"
   ]
  },
  {
   "cell_type": "code",
   "execution_count": 3,
   "metadata": {},
   "outputs": [],
   "source": [
    "client_credentials_manager = SpotifyClientCredentials(client_id=cid, client_secret=secret)\n",
    "sp = spotipy.Spotify(client_credentials_manager=client_credentials_manager)"
   ]
  },
  {
   "cell_type": "markdown",
   "metadata": {},
   "source": [
    "Let's now go ahead and search for a playlist of [Pitchfork's Top 200 Tracks of the 1990s](https://pitchfork.com/features/lists-and-guides/7854-the-top-200-tracks-of-the-1990s-200-151/) (this will return 10 results by default but we'll only care about the very first of these):"
   ]
  },
  {
   "cell_type": "code",
   "execution_count": 4,
   "metadata": {},
   "outputs": [],
   "source": [
    "playlist_search = sp.search(q='pitchfork songs of the 1990s', type='playlist')"
   ]
  },
  {
   "cell_type": "markdown",
   "metadata": {},
   "source": [
    "OK, now let's get the [URI](https://community.spotify.com/t5/Spotify-Answers/What-s-a-Spotify-URI/ta-p/919201) for the and title of first search result, just to sanity check:"
   ]
  },
  {
   "cell_type": "code",
   "execution_count": 5,
   "metadata": {},
   "outputs": [
    {
     "data": {
      "text/plain": [
       "'spotify:playlist:2QISjibz6qfirtz7okUSHV'"
      ]
     },
     "execution_count": 5,
     "metadata": {},
     "output_type": "execute_result"
    }
   ],
   "source": [
    "pfork90uri = playlist_search['playlists']['items'][0]['uri']\n",
    "pfork90uri"
   ]
  },
  {
   "cell_type": "code",
   "execution_count": 6,
   "metadata": {},
   "outputs": [
    {
     "data": {
      "text/plain": [
       "\"Pitchfork's Top 200 Songs of the 1990s\""
      ]
     },
     "execution_count": 6,
     "metadata": {},
     "output_type": "execute_result"
    }
   ],
   "source": [
    "pfork90name = playlist_search['playlists']['items'][0]['name']\n",
    "pfork90name"
   ]
  },
  {
   "cell_type": "markdown",
   "metadata": {},
   "source": [
    "Now let's get the tracks from this playlist:"
   ]
  },
  {
   "cell_type": "code",
   "execution_count": 7,
   "metadata": {},
   "outputs": [
    {
     "data": {
      "text/plain": [
       "100"
      ]
     },
     "execution_count": 7,
     "metadata": {},
     "output_type": "execute_result"
    }
   ],
   "source": [
    "pfork90s = sp.playlist_tracks(pfork90uri)\n",
    "len(pfork90s['items'])"
   ]
  },
  {
   "cell_type": "markdown",
   "metadata": {},
   "source": [
    "OK, we were limited to 100 tracks, but clearly there are 200 tracks, it says so in the name of the playlist, right? Fortunately we can use the `next` field from the results of our search to get the rest of the tracks as demonstrated in this [example](https://github.com/plamere/spotipy/blob/master/examples/user_playlists_contents.py) (yes, this is not all original code created by me and adapted for my purposes)."
   ]
  },
  {
   "cell_type": "code",
   "execution_count": 8,
   "metadata": {},
   "outputs": [
    {
     "data": {
      "text/plain": [
       "'https://api.spotify.com/v1/playlists/2QISjibz6qfirtz7okUSHV/tracks?offset=100&limit=100&additional_types=track'"
      ]
     },
     "execution_count": 8,
     "metadata": {},
     "output_type": "execute_result"
    }
   ],
   "source": [
    "pfork90s['next']"
   ]
  },
  {
   "cell_type": "code",
   "execution_count": 9,
   "metadata": {},
   "outputs": [],
   "source": [
    "def print_playlist_tracks(playlist, run):\n",
    "    for i, track in enumerate(playlist.get('items', [])):\n",
    "        print(str((100*run) + (i+1)), track['track']['name'], '-', track['track']['artists'][0]['name'])"
   ]
  },
  {
   "cell_type": "code",
   "execution_count": 10,
   "metadata": {},
   "outputs": [
    {
     "name": "stdout",
     "output_type": "stream",
     "text": [
      "1 Gold Soundz - Pavement\n",
      "2 Common People - Pulp\n",
      "3 Nuthin' but a \"G\" Thang - Dr. Dre\n",
      "4 Paranoid Android - Radiohead\n",
      "5 Protect Ya Neck - Wu-Tang Clan\n",
      "6 Only Shallow - My Bloody Valentine\n",
      "7 Holland, 1945 - Neutral Milk Hotel\n",
      "8 Are You That Somebody - Aaliyah\n",
      "9 Loser - Beck\n",
      "10 Say It Ain't So - Weezer\n",
      "11 Hyperballad - Björk\n",
      "12 Windowlicker - Aphex Twin\n",
      "13 Smells Like Teen Spirit - Nirvana\n",
      "14 Juicy - 2005 Remaster - The Notorious B.I.G.\n",
      "15 Enjoy the Silence - Single Mix - Depeche Mode\n",
      "16 SpottieOttieDopaliscious - OutKast\n",
      "17 The State I’m In - Belle & Sebastian\n",
      "18 Da Funk - Daft Punk\n",
      "19 Fade Into You - Mazzy Star\n",
      "20 Midnight In A Perfect World - DJ Shadow\n",
      "21 1979 - Remastered 2012 - The Smashing Pumpkins\n",
      "22 Cannonball - The Breeders\n",
      "23 Ladies and Gentlemen We Are Floating in Space - Spiritualized\n",
      "24 Car - Built To Spill\n",
      "25 Shook Ones, Pt. II - Mobb Deep\n",
      "26 Girls and Boys - 2012 Remaster - Blur\n",
      "27 Needle In The Hay - Elliott Smith\n",
      "28 It Ain't Hard to Tell - Nas\n",
      "29 Bitter Sweet Symphony - The Verve\n",
      "30 Race for the Prize - 2017 Remaster - The Flaming Lips\n",
      "31 Born Slippy (Nuxx) - Underworld\n",
      "32 I See A Darkness - Bonnie \"Prince\" Billy\n",
      "33 The Rain (Supa Dupa Fly) - Missy Elliott\n",
      "34 Regret - 2015 Remaster - New Order\n",
      "35 They Reminisce Over You (T.R.O.Y.) - Pete Rock & C.L. Smooth\n",
      "36 Game Of Pricks - Guided By Voices\n",
      "37 Nothing Compares 2 U - Sinéad O'Connor\n",
      "38 Check the Rhime - A Tribe Called Quest\n",
      "39 Sabotage - Beastie Boys\n",
      "40 Little Fluffy Clouds - Dance Mix 2 - The Orb\n",
      "41 Passin' Me By - The Pharcyde\n",
      "42 Closer - Nine Inch Nails\n",
      "43 Setting Sun - The Chemical Brothers\n",
      "44 Unfinished Sympathy - 2012 Mix/Master - Massive Attack\n",
      "45 Mind Playing Tricks on Me - Geto Boys\n",
      "46 Music Sounds Better With You - Stardust\n",
      "47 Rid Of Me - PJ Harvey\n",
      "48 Everlong - Foo Fighters\n",
      "49 Autumn Sweater - Yo La Tengo\n",
      "50 Live Forever - Remastered - Oasis\n",
      "51 Brothers Gonna Work It Out - Public Enemy\n",
      "52 I Wanna Be Adored - The Stone Roses\n",
      "53 A Roller Skating Jam Named \"Saturdays\" - De La Soul\n",
      "54 Glory Box - Portishead\n",
      "55 Daytona 500 (feat. Raekwon & Cappadonna) - Ghostface Killah\n",
      "56 Moya - Godspeed You! Black Emperor\n",
      "57 Dry the Rain - The Beta Band\n",
      "58 Repeater - Fugazi\n",
      "59 Groove Is in the Heart - Deee-Lite\n",
      "60 100% - Sonic Youth\n",
      "61 Alec Eiffel - Pixies\n",
      "62 Dead Presidents II - Jay-Z\n",
      "63 Trailer Trash - Modest Mouse\n",
      "64 The City - Dismemberment Plan\n",
      "65 Real Love - Mary J. Blige\n",
      "66 Lovefool - The Cardigans\n",
      "67 Rebel Girl - Bikini Kill\n",
      "68 Avenue - Saint Etienne\n",
      "69 Red Alert - Basement Jaxx\n",
      "70 Roygbiv - Boards of Canada\n",
      "71 This Is How We Walk On The Moon - Arthur Russell\n",
      "72 Nightswimming - R.E.M.\n",
      "73 Love Stepping Out - Disco Inferno\n",
      "74 Via Chicago - Wilco\n",
      "75 Halfway to a Threeway - Jim O'Rourke\n",
      "76 Brown Sugar - D'Angelo\n",
      "77 Web in Front - Archers Of Loaf\n",
      "78 On & On - Erykah Badu\n",
      "79 Freedom! '90 - Remastered - George Michael\n",
      "80 Wichita Lineman Was A Song I Once Heard - The KLF\n",
      "81 Slack Motherfucker - Superchunk\n",
      "82 No Diggity - Blackstreet\n",
      "83 Dig Me Out - Sleater-Kinney\n",
      "84 Tha Crossroads - Bone Thugs-N-Harmony\n",
      "85 All I Need (feat. Beth Hirsch) - Air\n",
      "86 Poison - Bell Biv DeVoe\n",
      "87 Fuck and Run (Remastered) - Liz Phair\n",
      "88 93 'Til Infinity - Souls Of Mischief\n",
      "89 Teenage Spaceship - Smog\n",
      "90 Got Your Money (feat. Kelis) - Ol' Dirty Bastard\n",
      "91 Last Goodbye - Jeff Buckley\n",
      "92 Violet - Hole\n",
      "93 Start Choppin' - Dinosaur Jr.\n",
      "94 French Disko - Stereolab\n",
      "95 Doo Wop (That Thing) - Ms. Lauryn Hill\n",
      "96 Higher Than the Sun - Single Mix - Primal Scream\n",
      "97 I Got 5 On It - Luniz\n",
      "98 Stutter - Elastica\n",
      "99 My Boo - Hitman's Club Mix - Ghost Town DJs\n",
      "100 Fourth of July - Galaxie 500\n",
      "101 Gin And Juice (feat. Dat Nigga Daz) - Snoop Dogg\n",
      "102 The Book of Love - The Magnetic Fields\n",
      "103 Random Rules - Silver Jews\n",
      "104 Pony - Ginuwine\n",
      "105 Kinky Afro - 2007 Remaster - Happy Mondays\n",
      "106 You Get What You Give - New Radicals\n",
      "107 I Get Around - 2Pac\n",
      "108 Regulate - Warren G\n",
      "109 Djed - Tortoise\n",
      "110 I Used to Love H.E.R. - Common\n",
      "111 There She Goes - The La's\n",
      "112 Some Things Last A Long Time - Daniel Johnston\n",
      "113 Brimful Of Asha - Norman Cook Remix Single Version - Cornershop\n",
      "114 Creep - TLC\n",
      "115 The Choice Is Yours (Revisited) - Black Sheep\n",
      "116 Euphoria (Nino's Dream) - The House Crew\n",
      "117 Respiration - Black Star\n",
      "118 Now My Heart Is Full - 2014 Remaster - Morrissey\n",
      "119 Steal My Sunshine - LEN\n",
      "120 My Name Is - Eminem\n",
      "121 Ice Cream (feat. Ghostface Killah, Method Man & Cappadonna) - Raekwon\n",
      "122 Christiansands - Tricky\n",
      "123 Mouth Breather - The Jesus Lizard\n",
      "124 Laid - James\n",
      "125 In the Meantime - Spacehog\n",
      "126 Herjazz - Huggy Bear\n",
      "127 The Humpty Dance - Digital Underground\n",
      "128 Caught By the Fuzz - Supergrass\n",
      "129 Cross Bones Style - Cat Power\n",
      "130 Savory - Jawbox\n",
      "131 Make Out Club - Unrest\n",
      "132 Wicked - Ice Cube\n",
      "133 Yellow Ledbetter - Pearl Jam\n",
      "134 Go - Moby\n",
      "135 Ice Hockey Hair - Super Furry Animals\n",
      "136 One Day - UGK\n",
      "137 Being Boring - 2001 Remastered Version - Pet Shop Boys\n",
      "138 It's A Shame About Ray - Remastered - The Lemonheads\n",
      "139 Trip To The Moon Pt.1 - Acen\n",
      "140 Trip To The Moon Pt.2 - Acen\n",
      "141 November Rain - Guns N' Roses\n",
      "142 Lay My Love - Brian Eno\n",
      "143 Cell Therapy - Goodie Mob\n",
      "144 Hideaway - The Olivia Tremor Control\n",
      "145 Ms. Fat Booty - Mos Def\n",
      "146 Vapour Trail - 2001 Remaster - Ride\n",
      "147 Falling - Julee Cruise\n",
      "148 Papua New Guinea - The Future Sound Of London\n",
      "149 Good Morning, Captain - Slint\n",
      "150 Girlfriend - Matthew Sweet\n",
      "151 Praise You - Fatboy Slim\n",
      "152 Longview - Green Day\n",
      "153 Stop - Jane's Addiction\n",
      "154 We Could Walk Together - The Clientele\n",
      "155 Simon Says - Pharoahe Monch\n",
      "156 Bills, Bills, Bills - Destiny's Child\n",
      "157 Renegade Snares [Foul Play VIP Mix] - Omni Trio\n",
      "158 Ha - Juvenile\n",
      "159 Your Woman - White Town\n",
      "160 The Next Movement - The Roots\n",
      "161 Mogwai Fear Satan - Mogwai\n",
      "162 Caught Out There - Kelis\n",
      "163 Katy Song - Red House Painters\n",
      "164 Gentlemen - Remastered - The Afghan Whigs\n",
      "165 Unsolved Child Murder - The Auteurs\n",
      "166 Pat’s Trick - Helium\n",
      "167 My Lovin' (You're Never Gonna Get It) - En Vogue\n",
      "168 Atlantis (I Need You) - LTJ Bukem\n",
      "169 Would? - Alice In Chains\n",
      "170 We Are The Pigs - Suede\n",
      "171 Superthug - N.O.R.E.\n",
      "172 Everybody Everybody - Le Freak Mix - Black Box\n",
      "173 Mass Appeal - Gang Starr\n",
      "174 X-French Tee Shirt - Shudder To Think\n",
      "175 Lazarus - The Boo Radleys\n",
      "176 Interstate Love Song - Stone Temple Pilots\n",
      "177 Chime - Extended Version - Orbital\n",
      "178 Super Are - Boredoms\n",
      "179 Echo's Answer - Broadcast\n",
      "180 Missing The Moon - The Field Mice\n",
      "181 Bellbottoms - The Jon Spencer Blues Explosion\n",
      "182 Red Right Hand - 2011 Remastered Version - Nick Cave & The Bad Seeds\n",
      "183 It's a Fine Day - Opus III\n",
      "184 Holes - Remastered - Mercury Rev\n",
      "185 A Letter to Elise - The Cure\n",
      "186 So Now… - Herbert\n",
      "187 Beau Mot Plage - Isolée\n",
      "188 The First Big Weekend - Arab Strap\n",
      "189 Virginia Reel Around The Fountain - The Halo Benders\n",
      "190 Here's Where The Story Ends - The Sundays\n",
      "191 New Noise - Refused\n",
      "192 9th Wonder (Blackitolism) - Digable Planets\n",
      "193 Flagpole Sitta - Harvey Danger\n",
      "194 I Got A Man - Positive K\n",
      "195 Motownphilly - Boyz II Men\n",
      "196 Limb By Limb - Cutty Ranks\n",
      "197 City Sickness - Tindersticks\n",
      "198 Mother - Live At Irvine Meadows Amphitheatre, CA/1992 - Danzig\n",
      "199 The Angels Fell - 2015 Remaster - Dillinja\n",
      "200 Your Fucking Sunny Day - Lambchop\n",
      "201 Fruit of Love (Techno Mix) - Transformer 2\n"
     ]
    }
   ],
   "source": [
    "run = 0\n",
    "print_playlist_tracks(pfork90s, run)\n",
    "while pfork90s['next']:\n",
    "    run += 1\n",
    "    pfork90s = sp.next(pfork90s)\n",
    "    print_playlist_tracks(pfork90s, run)"
   ]
  },
  {
   "cell_type": "markdown",
   "metadata": {},
   "source": [
    "OK it seems some of these rankings are off by 1 at the end, since there's 201 tracks here -- oh wait it even says it in the description!"
   ]
  },
  {
   "cell_type": "code",
   "execution_count": 13,
   "metadata": {},
   "outputs": [
    {
     "data": {
      "text/plain": [
       "'Note: There appears to be one too many songs because the list included Part 1 and Part 2 of &quot;Trip II The Moon&quot; by Acen.'"
      ]
     },
     "execution_count": 13,
     "metadata": {},
     "output_type": "execute_result"
    }
   ],
   "source": [
    "playlist_search['playlists']['items'][0]['description']"
   ]
  }
 ],
 "metadata": {
  "kernelspec": {
   "display_name": "Python 3",
   "language": "python",
   "name": "python3"
  },
  "language_info": {
   "codemirror_mode": {
    "name": "ipython",
    "version": 3
   },
   "file_extension": ".py",
   "mimetype": "text/x-python",
   "name": "python",
   "nbconvert_exporter": "python",
   "pygments_lexer": "ipython3",
   "version": "3.6.4"
  }
 },
 "nbformat": 4,
 "nbformat_minor": 2
}
